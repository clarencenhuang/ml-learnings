{
 "cells": [
  {
   "cell_type": "markdown",
   "metadata": {},
   "source": [
    "# Logistic Regrssion - Multinomial"
   ]
  },
  {
   "cell_type": "code",
   "execution_count": 1,
   "metadata": {},
   "outputs": [],
   "source": [
    "%matplotlib inline\n",
    "import numpy as np\n",
    "import torch\n",
    "import torch.nn as nn\n",
    "import torch.nn.functional as F\n",
    "import torch.optim as optim\n",
    "from torchvision import datasets, transforms"
   ]
  },
  {
   "cell_type": "code",
   "execution_count": 2,
   "metadata": {},
   "outputs": [],
   "source": [
    "ds_train = datasets.MNIST('../data', train=True, download=True,\n",
    "                       transform=transforms.Compose([\n",
    "                           transforms.ToTensor(),\n",
    "                           transforms.Normalize((0.1307,), (0.3081,))\n",
    "                       ]))\n",
    "train_loader = torch.utils.data.DataLoader(ds_train,batch_size=32, shuffle=True)\n",
    "test_loader = torch.utils.data.DataLoader(\n",
    "        datasets.MNIST('../data', train=False, transform=transforms.Compose([\n",
    "                           transforms.ToTensor(),\n",
    "                           transforms.Normalize((0.1307,), (0.3081,))\n",
    "                       ])),\n",
    "        batch_size=32, shuffle=True)"
   ]
  },
  {
   "cell_type": "code",
   "execution_count": 3,
   "metadata": {},
   "outputs": [
    {
     "data": {
      "text/plain": [
       "(torch.Size([32, 1, 28, 28]), torch.Size([32]))"
      ]
     },
     "execution_count": 3,
     "metadata": {},
     "output_type": "execute_result"
    }
   ],
   "source": [
    "x,y = next(iter(train_loader))\n",
    "x.shape, y.shape"
   ]
  },
  {
   "cell_type": "code",
   "execution_count": 4,
   "metadata": {},
   "outputs": [],
   "source": [
    "class LogisticRegression(nn.Module):\n",
    "    \n",
    "    def __init__(self, in_features, out_classes):\n",
    "        super(LogisticRegression, self).__init__()\n",
    "        self.linear = nn.Linear(in_features, out_classes)\n",
    "        \n",
    "    def forward(self, x):\n",
    "        bs = x.shape[0]\n",
    "        x = x.view(bs, -1) #flatten\n",
    "        x = self.linear(x)\n",
    "        x = F.log_softmax(x, 1)\n",
    "        return x\n",
    "        "
   ]
  },
  {
   "cell_type": "code",
   "execution_count": 5,
   "metadata": {},
   "outputs": [],
   "source": [
    "model = LogisticRegression(28*28, 10)"
   ]
  },
  {
   "cell_type": "markdown",
   "metadata": {},
   "source": [
    "Training code"
   ]
  },
  {
   "cell_type": "code",
   "execution_count": 6,
   "metadata": {},
   "outputs": [
    {
     "name": "stdout",
     "output_type": "stream",
     "text": [
      "start epoch 0\n",
      "valiation loss is 0.2912658751010895 , accuracy is 0.9183\n",
      "start epoch 1\n",
      "valiation loss is 0.27888596057891846 , accuracy is 0.923\n",
      "start epoch 2\n",
      "valiation loss is 0.2824396789073944 , accuracy is 0.9189\n",
      "start epoch 3\n",
      "valiation loss is 0.284843772649765 , accuracy is 0.9207\n",
      "start epoch 4\n",
      "valiation loss is 0.2886124551296234 , accuracy is 0.9188\n",
      "start epoch 5\n",
      "valiation loss is 0.27440404891967773 , accuracy is 0.9266\n",
      "start epoch 6\n",
      "valiation loss is 0.31283023953437805 , accuracy is 0.9183\n",
      "start epoch 7\n",
      "valiation loss is 0.28688353300094604 , accuracy is 0.9219\n",
      "start epoch 8\n",
      "valiation loss is 0.297529399394989 , accuracy is 0.9218\n",
      "start epoch 9\n",
      "valiation loss is 0.27903297543525696 , accuracy is 0.9235\n"
     ]
    }
   ],
   "source": [
    "optimizer = optim.Adam(model.parameters(), lr=0.001)\n",
    "criterion = torch.nn.NLLLoss()\n",
    "epochs = 10\n",
    "model.to('cuda')\n",
    "for e in range(epochs):\n",
    "    print(f\"start epoch {e}\")\n",
    "    model.train()\n",
    "    for inputs, labels in train_loader:\n",
    "        inputs, labels = inputs.to('cuda'), labels.to('cuda')\n",
    "        optimizer.zero_grad()\n",
    "        yhat = model(inputs)\n",
    "        loss = criterion(yhat, labels)\n",
    "        loss.backward()\n",
    "        optimizer.step()\n",
    "    \n",
    "    # run validation\n",
    "    model.eval()\n",
    "    val_loss = 0.0\n",
    "    correct = 0.0\n",
    "    num = 0.0\n",
    "    for inputs, labels in test_loader:\n",
    "        inputs, labels = inputs.to('cuda'), labels.to('cuda')\n",
    "        with torch.no_grad():\n",
    "            yhat = model(inputs)\n",
    "            val_loss += criterion(yhat, labels) * inputs.shape[0]\n",
    "            _, yl = torch.max(yhat, 1)\n",
    "            correct += torch.sum(yl == labels).item()\n",
    "            num += inputs.shape[0]\n",
    "    print(f\"valiation loss is {val_loss/num} , accuracy is {correct/num}\")\n",
    "    "
   ]
  },
  {
   "cell_type": "code",
   "execution_count": null,
   "metadata": {},
   "outputs": [],
   "source": []
  }
 ],
 "metadata": {
  "kernelspec": {
   "display_name": "conda_pytorch_p36",
   "language": "python",
   "name": "conda_pytorch_p36"
  },
  "language_info": {
   "codemirror_mode": {
    "name": "ipython",
    "version": 3
   },
   "file_extension": ".py",
   "mimetype": "text/x-python",
   "name": "python",
   "nbconvert_exporter": "python",
   "pygments_lexer": "ipython3",
   "version": "3.6.5"
  }
 },
 "nbformat": 4,
 "nbformat_minor": 2
}
