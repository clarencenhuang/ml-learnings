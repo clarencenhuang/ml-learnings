{
 "cells": [
  {
   "cell_type": "markdown",
   "metadata": {},
   "source": [
    "# Character Level RNN Tutorial"
   ]
  },
  {
   "cell_type": "markdown",
   "metadata": {},
   "source": [
    "This follows the tutorial here: https://pytorch.org/tutorials/intermediate/char_rnn_classification_tutorial.html"
   ]
  },
  {
   "cell_type": "code",
   "execution_count": 2,
   "metadata": {},
   "outputs": [],
   "source": [
    "%matplotlib inline\n",
    "from io import open\n",
    "import glob\n",
    "import os\n",
    "import unicodedata\n",
    "import string\n",
    "import torch\n",
    "import torch.nn as nn\n",
    "import numpy as np\n",
    "import torch.optim as optim\n",
    "import torch.nn.functional as F\n",
    "import matplotlib.pyplot as plt\n",
    "import matplotlib.ticker as ticker\n",
    "plt.style.use('dark_background')"
   ]
  },
  {
   "cell_type": "code",
   "execution_count": 3,
   "metadata": {},
   "outputs": [],
   "source": [
    "files = glob.glob(\"/home/clarencenhuang/data/pytorch-tutorials/names/*.txt\")"
   ]
  },
  {
   "cell_type": "code",
   "execution_count": 4,
   "metadata": {},
   "outputs": [
    {
     "data": {
      "text/plain": [
       "['/home/clarencenhuang/data/pytorch-tutorials/names/Spanish.txt',\n",
       " '/home/clarencenhuang/data/pytorch-tutorials/names/Polish.txt',\n",
       " '/home/clarencenhuang/data/pytorch-tutorials/names/Portuguese.txt']"
      ]
     },
     "execution_count": 4,
     "metadata": {},
     "output_type": "execute_result"
    }
   ],
   "source": [
    "files[:3]"
   ]
  },
  {
   "cell_type": "markdown",
   "metadata": {},
   "source": [
    "### Text Normalization"
   ]
  },
  {
   "cell_type": "code",
   "execution_count": 5,
   "metadata": {},
   "outputs": [],
   "source": [
    "all_letters = string.ascii_letters + \" .,;'\"\n",
    "n_letters = len(all_letters)\n",
    "def unicode_to_ascii(s):\n",
    "    return ''.join(c for c in unicodedata.normalize('NFD', s) if unicodedata.category(c) != 'Mn' and c in all_letters)\n",
    "\n",
    "\n",
    "def read_lines(fname):\n",
    "    with open(fname, encoding='utf8') as fh:\n",
    "        lines = fh.read().strip().split('\\n')\n",
    "        return list(map(unicode_to_ascii, lines))\n",
    "    "
   ]
  },
  {
   "cell_type": "code",
   "execution_count": 6,
   "metadata": {},
   "outputs": [
    {
     "data": {
      "text/plain": [
       "'Slusarski'"
      ]
     },
     "execution_count": 6,
     "metadata": {},
     "output_type": "execute_result"
    }
   ],
   "source": [
    "unicode_to_ascii('Ślusàrski')"
   ]
  },
  {
   "cell_type": "code",
   "execution_count": 7,
   "metadata": {},
   "outputs": [],
   "source": [
    "category_lines = {}\n",
    "for fname in files:\n",
    "    category = os.path.splitext(os.path.basename(fname))[0]\n",
    "    category_lines[category] = read_lines(fname)\n",
    "n_categories = len(category_lines.keys())\n",
    "all_categories = sorted(category_lines.keys())\n",
    "cat2idx = {c:i for i,c in enumerate(sorted(category_lines.keys()))}\n",
    "idx2cat = {i:c for i,c in enumerate(sorted(category_lines.keys()))}"
   ]
  },
  {
   "cell_type": "code",
   "execution_count": 8,
   "metadata": {},
   "outputs": [
    {
     "data": {
      "text/plain": [
       "['Abe', 'Abukara', 'Adachi', 'Aida', 'Aihara']"
      ]
     },
     "execution_count": 8,
     "metadata": {},
     "output_type": "execute_result"
    }
   ],
   "source": [
    "category_lines['Japanese'][:5]"
   ]
  },
  {
   "cell_type": "markdown",
   "metadata": {},
   "source": [
    "### Data Encoding"
   ]
  },
  {
   "cell_type": "code",
   "execution_count": 9,
   "metadata": {},
   "outputs": [],
   "source": [
    "letter_to_idx = {c:i for i,c in enumerate(all_letters)}\n",
    "idx_to_letter = {i:c for i,c in enumerate(all_letters)}\n",
    "\n",
    "def letter2tensor(l):\n",
    "    t = torch.zeros(1, n_letters)\n",
    "    t[0, letter_to_idx[l]] = 1\n",
    "    return t\n",
    "\n",
    "def line2tensor(line):\n",
    "    t = torch.zeros(len(line), 1, n_letters)\n",
    "    for i in range(len(line)):\n",
    "        l = line[i]\n",
    "        t[i,:] = letter2tensor(l)\n",
    "    return t"
   ]
  },
  {
   "cell_type": "code",
   "execution_count": 10,
   "metadata": {},
   "outputs": [
    {
     "data": {
      "text/plain": [
       "torch.Size([5, 1, 57])"
      ]
     },
     "execution_count": 10,
     "metadata": {},
     "output_type": "execute_result"
    }
   ],
   "source": [
    "line2tensor(\"Jones\").shape"
   ]
  },
  {
   "cell_type": "markdown",
   "metadata": {},
   "source": [
    "### Create a Recurrent NN"
   ]
  },
  {
   "cell_type": "markdown",
   "metadata": {},
   "source": [
    "This is kind of a wierd RNN because it does\n",
    "\n",
    "h1 = W_i2h (x + h0) + b_input\n",
    "output = W_i2o (x + h0) + b_output\n"
   ]
  },
  {
   "cell_type": "code",
   "execution_count": 11,
   "metadata": {},
   "outputs": [],
   "source": [
    "class RNN(nn.Module):\n",
    "    \n",
    "    def __init__(self, input_size, hidden_size, output_size):\n",
    "        super(RNN, self).__init__()\n",
    "        self.hidden_size = hidden_size\n",
    "        self.i2h = nn.Linear(input_size + hidden_size, hidden_size)\n",
    "        self.i2o = nn.Linear(input_size + hidden_size, output_size)\n",
    "        self.softmax = nn.LogSoftmax(dim=1)\n",
    "        \n",
    "    def forward(self, x, h):\n",
    "        concat = torch.cat((x, h), 1)\n",
    "        h1 = self.i2h(concat)\n",
    "        o = self.i2o(concat)\n",
    "        o = self.softmax(o)\n",
    "        return o, h1  \n",
    "    \n",
    "    def init_hidden(self):\n",
    "        return torch.zeros(1, self.hidden_size)"
   ]
  },
  {
   "cell_type": "code",
   "execution_count": 12,
   "metadata": {},
   "outputs": [],
   "source": [
    "n_hidden = 128\n",
    "rnn = RNN(n_letters, n_hidden, n_categories)"
   ]
  },
  {
   "cell_type": "raw",
   "metadata": {},
   "source": [
    "Try on a letter"
   ]
  },
  {
   "cell_type": "code",
   "execution_count": 13,
   "metadata": {},
   "outputs": [],
   "source": [
    "inp = letter2tensor(\"A\")\n",
    "hidden = torch.zeros(1, n_hidden)\n",
    "o, nh = rnn(inp, hidden)"
   ]
  },
  {
   "cell_type": "markdown",
   "metadata": {},
   "source": [
    "Try on a line"
   ]
  },
  {
   "cell_type": "code",
   "execution_count": 14,
   "metadata": {},
   "outputs": [
    {
     "data": {
      "text/plain": [
       "torch.Size([1, 18])"
      ]
     },
     "execution_count": 14,
     "metadata": {},
     "output_type": "execute_result"
    }
   ],
   "source": [
    "inp = line2tensor(\"Nankun\")\n",
    "hidden = torch.zeros(1, n_hidden)\n",
    "o, nh = rnn(inp[0], hidden)\n",
    "o.shape"
   ]
  },
  {
   "cell_type": "code",
   "execution_count": 15,
   "metadata": {},
   "outputs": [],
   "source": [
    "def category_from_output(o):\n",
    "    idx = o.topk(1)[1].item()\n",
    "    return idx2cat[idx], idx"
   ]
  },
  {
   "cell_type": "code",
   "execution_count": 16,
   "metadata": {},
   "outputs": [
    {
     "data": {
      "text/plain": [
       "('French', 5)"
      ]
     },
     "execution_count": 16,
     "metadata": {},
     "output_type": "execute_result"
    }
   ],
   "source": [
    "category_from_output(o)"
   ]
  },
  {
   "cell_type": "code",
   "execution_count": 17,
   "metadata": {},
   "outputs": [],
   "source": [
    "def random_training_sample():\n",
    "    category = np.random.choice(all_categories)\n",
    "    line = np.random.choice(category_lines[category])\n",
    "    category_tensor = torch.LongTensor([cat2idx[category]])\n",
    "    line_tensor = line2tensor(line)\n",
    "    return category, line, category_tensor, line_tensor"
   ]
  },
  {
   "cell_type": "markdown",
   "metadata": {},
   "source": [
    "### Training Process"
   ]
  },
  {
   "cell_type": "code",
   "execution_count": 41,
   "metadata": {},
   "outputs": [],
   "source": [
    "criterion = nn.NLLLoss()\n",
    "cell = RNN(n_letters, n_hidden, n_categories)\n",
    "optimizer = optim.Adam(cell.parameters(), lr=0.001)\n",
    "epochs = 100000\n",
    "def train(cell, epochs, optimizer, loss_every=5000):\n",
    "    losses = []\n",
    "    total_loss = 0\n",
    "    cell.train()\n",
    "    for e in range(epochs):\n",
    "        _, _, cat_tensor, line_tensor = random_training_sample()\n",
    "        optimizer.zero_grad()\n",
    "        h = cell.init_hidden()\n",
    "        for i in range(line_tensor.shape[0]):\n",
    "            o, h = cell(line_tensor[i], h)\n",
    "        \n",
    "        loss = criterion(o, cat_tensor)\n",
    "        loss.backward()\n",
    "        #nn.utils.clip_grad_norm_(cell.parameters(), 10)\n",
    "        optimizer.step()\n",
    "        \n",
    "        total_loss += loss.item()\n",
    "        if (e+1) % loss_every == 0: \n",
    "            losses.append(total_loss/loss_every)\n",
    "            print(f\"epoch {e+1} running loss is {total_loss/loss_every}\")\n",
    "            total_loss = 0\n",
    "    return losses"
   ]
  },
  {
   "cell_type": "code",
   "execution_count": 42,
   "metadata": {},
   "outputs": [
    {
     "name": "stdout",
     "output_type": "stream",
     "text": [
      "epoch 5000 running loss is 2.2332830371178685\n",
      "epoch 10000 running loss is 1.7515948969412596\n",
      "epoch 15000 running loss is 1.5879500095478667\n",
      "epoch 20000 running loss is 1.4785837747845565\n",
      "epoch 25000 running loss is 1.436006814744581\n",
      "epoch 30000 running loss is 1.3859413547553063\n",
      "epoch 35000 running loss is 1.365235902921528\n",
      "epoch 40000 running loss is 1.3186918842134063\n",
      "epoch 45000 running loss is 1.3102721575046794\n",
      "epoch 50000 running loss is 1.2794245894160663\n",
      "epoch 55000 running loss is 1.2519506378198115\n",
      "epoch 60000 running loss is 1.2673598964395656\n",
      "epoch 65000 running loss is 1.2523416754180685\n",
      "epoch 70000 running loss is 1.2304190665956167\n",
      "epoch 75000 running loss is 1.2260748353886837\n",
      "epoch 80000 running loss is 1.242722384023421\n",
      "epoch 85000 running loss is 1.198996474925802\n",
      "epoch 90000 running loss is 1.2133160466290542\n",
      "epoch 95000 running loss is 1.2092426223442199\n",
      "epoch 100000 running loss is 1.1700460314193228\n"
     ]
    }
   ],
   "source": [
    "loss_hist_linear_rnn = train(cell, epochs, optimizer)"
   ]
  },
  {
   "cell_type": "code",
   "execution_count": 20,
   "metadata": {},
   "outputs": [
    {
     "data": {
      "text/plain": [
       "[<matplotlib.lines.Line2D at 0x7f4525761240>]"
      ]
     },
     "execution_count": 20,
     "metadata": {},
     "output_type": "execute_result"
    },
    {
     "data": {
      "image/png": "[encoded data removed]",
      "text/plain": [
       "<Figure size 432x288 with 1 Axes>"
      ]
     },
     "metadata": {},
     "output_type": "display_data"
    }
   ],
   "source": [
    "plt.plot(loss_hist_linear_rnn)"
   ]
  },
  {
   "cell_type": "code",
   "execution_count": 21,
   "metadata": {},
   "outputs": [
    {
     "data": {
      "text/plain": [
       "(tensor(1.),\n",
       " tensor([[-3.0466, -2.8870, -2.4564, -2.7718, -2.4537, -2.6538, -2.4075,\n",
       "          -4.0620, -2.9120, -3.3345, -3.4477, -2.5908, -3.2039, -3.2533,\n",
       "          -2.9916, -2.7599, -3.0756, -3.0131]]))"
      ]
     },
     "execution_count": 21,
     "metadata": {},
     "output_type": "execute_result"
    }
   ],
   "source": [
    "_,_,ct,lt = random_training_sample()\n",
    "o,_ = cell(lt[0],cell.init_hidden())\n",
    "torch.exp(o).sum(), o"
   ]
  },
  {
   "cell_type": "code",
   "execution_count": 22,
   "metadata": {},
   "outputs": [],
   "source": [
    "def evaluate(cell, x):\n",
    "    if isinstance(x, str):\n",
    "        x = line2tensor(x)\n",
    "    cell.eval()\n",
    "    h = torch.zeros(1, n_hidden)\n",
    "    for i in range(x.shape[0]): \n",
    "        o, h = cell(x[i], h)\n",
    "    return category_from_output(o)"
   ]
  },
  {
   "cell_type": "code",
   "execution_count": 23,
   "metadata": {},
   "outputs": [],
   "source": [
    "def show_confusion(cell):\n",
    "    confusion = np.zeros((n_categories, n_categories))\n",
    "    n_confusion = 10000\n",
    "    for i in range(n_confusion):\n",
    "        category, _, _, line_tensor = random_training_sample()\n",
    "        _, idx = evaluate(cell, line_tensor)\n",
    "        confusion[cat2idx[category], idx] += 1\n",
    "    confusion = confusion / confusion.sum(axis=1)\n",
    "    fig = plt.figure()\n",
    "    ax = fig.add_subplot(111)\n",
    "    cax = ax.matshow(confusion)\n",
    "    fig.colorbar(cax)\n",
    "\n",
    "    # Set up axes\n",
    "    ax.set_xticklabels([''] + all_categories, rotation=90)\n",
    "    ax.set_yticklabels([''] + all_categories)\n",
    "\n",
    "    # Force label at every tick\n",
    "    ax.xaxis.set_major_locator(ticker.MultipleLocator(1))\n",
    "    ax.yaxis.set_major_locator(ticker.MultipleLocator(1))\n",
    "\n",
    "    # sphinx_gallery_thumbnail_number = 2\n",
    "    plt.show()"
   ]
  },
  {
   "cell_type": "code",
   "execution_count": 24,
   "metadata": {},
   "outputs": [
    {
     "data": {
      "image/png": "[encoded data removed]",
      "text/plain": [
       "<Figure size 432x288 with 2 Axes>"
      ]
     },
     "metadata": {},
     "output_type": "display_data"
    }
   ],
   "source": [
    "show_confusion(cell)"
   ]
  },
  {
   "cell_type": "markdown",
   "metadata": {},
   "source": [
    "### Exercise 1, try training this stuff on a torch.RNN cell which has a nonlinearity"
   ]
  },
  {
   "cell_type": "code",
   "execution_count": 28,
   "metadata": {},
   "outputs": [],
   "source": [
    "class WordRNN(nn.Module):\n",
    "    \n",
    "    def __init__(self, n_input, n_hidden, n_output):\n",
    "        super(WordRNN, self).__init__()\n",
    "        self.rnn_cell = nn.RNNCell(n_input, n_hidden)\n",
    "        self.h2o = nn.Linear(n_hidden, n_output)\n",
    "    \n",
    "    def forward(self, x, h):\n",
    "        h = self.rnn_cell(x, h)\n",
    "        o = self.h2o(h)\n",
    "        return o, h\n",
    "    \n",
    "    def init_hidden(self):\n",
    "        zeros = torch.zeros(1, n_hidden)\n",
    "        if next(self.parameters()).is_cuda:\n",
    "            zeros = zeros.cuda()\n",
    "        return zeros"
   ]
  },
  {
   "cell_type": "code",
   "execution_count": 29,
   "metadata": {},
   "outputs": [],
   "source": [
    "def train_rnn(cell, optimizer, criterion, epochs, print_every=5000):\n",
    "    cell.train()\n",
    "    tloss = 0\n",
    "    losses = []\n",
    "    for e in range(0, epochs):\n",
    "        _, _, cat_tensor, line_tensor = random_training_sample()\n",
    "        cat_tensor, line_tensor = cat_tensor.cuda(), line_tensor.cuda()\n",
    "        optimizer.zero_grad()\n",
    "        h = cell.init_hidden()\n",
    "        for t in range(line_tensor.shape[0]):\n",
    "            o, h = cell(line_tensor[t], h)\n",
    "        output = F.log_softmax(o, dim=1)\n",
    "        loss = criterion(output, cat_tensor)\n",
    "        loss.backward()\n",
    "        optimizer.step()\n",
    "        \n",
    "        tloss += loss.item()\n",
    "        if e > 0 and e % print_every == 0:\n",
    "            print(f\"epoch: {e} loss: {tloss/print_every}\")\n",
    "            losses.append(tloss/print_every)\n",
    "            tloss = 0\n",
    "    return losses"
   ]
  },
  {
   "cell_type": "code",
   "execution_count": 30,
   "metadata": {},
   "outputs": [
    {
     "name": "stdout",
     "output_type": "stream",
     "text": [
      "epoch: 5000 loss: 2.1197241476535797\n",
      "epoch: 10000 loss: 1.6325877628326415\n",
      "epoch: 15000 loss: 1.52160219540596\n",
      "epoch: 20000 loss: 1.4585292829990386\n",
      "epoch: 25000 loss: 1.3324082176923753\n",
      "epoch: 30000 loss: 1.2538191477298737\n",
      "epoch: 35000 loss: 1.1993853785037993\n",
      "epoch: 40000 loss: 1.1207513904809951\n",
      "epoch: 45000 loss: 1.0851177055358887\n",
      "epoch: 50000 loss: 1.00753974943161\n",
      "epoch: 55000 loss: 0.9842211889743805\n",
      "epoch: 60000 loss: 0.9053865931272507\n",
      "epoch: 65000 loss: 0.9457616463899613\n",
      "epoch: 70000 loss: 0.8868020311832427\n",
      "epoch: 75000 loss: 0.8417879786968231\n",
      "epoch: 80000 loss: 0.8844132354021073\n",
      "epoch: 85000 loss: 0.8914319610357284\n",
      "epoch: 90000 loss: 0.8692208408117295\n",
      "epoch: 95000 loss: 0.90298882791996\n"
     ]
    }
   ],
   "source": [
    "cell = WordRNN(n_letters, n_hidden, n_categories)\n",
    "cell.cuda()\n",
    "criterion = nn.NLLLoss()\n",
    "optimizer = optim.Adam(cell.parameters(), lr=0.001)\n",
    "epochs = 100000\n",
    "loss_hist_rnn = train_rnn(cell, optimizer, criterion, epochs)"
   ]
  },
  {
   "cell_type": "code",
   "execution_count": 32,
   "metadata": {},
   "outputs": [
    {
     "data": {
      "image/png": "[encoded data removed]",
      "text/plain": [
       "<Figure size 432x288 with 2 Axes>"
      ]
     },
     "metadata": {},
     "output_type": "display_data"
    }
   ],
   "source": [
    "cell.cpu()\n",
    "show_confusion(cell)"
   ]
  },
  {
   "cell_type": "code",
   "execution_count": 33,
   "metadata": {},
   "outputs": [
    {
     "data": {
      "text/plain": [
       "('Korean', 11)"
      ]
     },
     "execution_count": 33,
     "metadata": {},
     "output_type": "execute_result"
    }
   ],
   "source": [
    "evaluate(cell, \"Ahn\")"
   ]
  },
  {
   "cell_type": "markdown",
   "metadata": {},
   "source": [
    "### Lets try a GRU "
   ]
  },
  {
   "cell_type": "code",
   "execution_count": 34,
   "metadata": {},
   "outputs": [],
   "source": [
    "class WordGRU(nn.Module):\n",
    "    \n",
    "    def __init__(self, n_input, n_hidden, n_output):\n",
    "        super(WordGRU, self).__init__()\n",
    "        self.rnn_cell = nn.GRUCell(n_input, n_hidden)\n",
    "        self.h2o = nn.Linear(n_hidden, n_output)\n",
    "    \n",
    "    def forward(self, x, h):\n",
    "        h = self.rnn_cell(x, h)\n",
    "        o = self.h2o(h)\n",
    "        return o, h\n",
    "    \n",
    "    def init_hidden(self):\n",
    "        zeros = torch.zeros(1, n_hidden)\n",
    "        if next(self.parameters()).is_cuda:\n",
    "            zeros = zeros.cuda()\n",
    "        return zeros"
   ]
  },
  {
   "cell_type": "code",
   "execution_count": 35,
   "metadata": {},
   "outputs": [
    {
     "name": "stdout",
     "output_type": "stream",
     "text": [
      "epoch: 5000 loss: 1.9183378880500794\n",
      "epoch: 10000 loss: 1.303934335923195\n",
      "epoch: 15000 loss: 1.1052218922615051\n",
      "epoch: 20000 loss: 0.9645266226768494\n",
      "epoch: 25000 loss: 0.8240475368499756\n",
      "epoch: 30000 loss: 0.6960304815530777\n",
      "epoch: 35000 loss: 0.6277269144296647\n",
      "epoch: 40000 loss: 0.5498600326538086\n",
      "epoch: 45000 loss: 0.5091751786231995\n",
      "epoch: 50000 loss: 0.45587268295288086\n",
      "epoch: 55000 loss: 0.4492471991300583\n",
      "epoch: 60000 loss: 0.40861341915130617\n",
      "epoch: 65000 loss: 0.3889452942609787\n",
      "epoch: 70000 loss: 0.3817923135995865\n",
      "epoch: 75000 loss: 0.37420001049041746\n",
      "epoch: 80000 loss: 0.35677362344264985\n",
      "epoch: 85000 loss: 0.34157834343910215\n",
      "epoch: 90000 loss: 0.3323266980648041\n",
      "epoch: 95000 loss: 0.33474703347682955\n"
     ]
    }
   ],
   "source": [
    "cell = WordGRU(n_letters, n_hidden, n_categories)\n",
    "cell.cuda()\n",
    "criterion = nn.NLLLoss()\n",
    "optimizer = optim.Adam(cell.parameters(), lr=0.001)\n",
    "epochs = 100000\n",
    "loss_hist_gru = train_rnn(cell, optimizer, criterion, epochs)"
   ]
  },
  {
   "cell_type": "code",
   "execution_count": 36,
   "metadata": {},
   "outputs": [
    {
     "data": {
      "image/png": "[encoded data removed]",
      "text/plain": [
       "<Figure size 432x288 with 2 Axes>"
      ]
     },
     "metadata": {},
     "output_type": "display_data"
    }
   ],
   "source": [
    "cell.cpu()\n",
    "show_confusion(cell)"
   ]
  },
  {
   "cell_type": "code",
   "execution_count": 37,
   "metadata": {},
   "outputs": [
    {
     "data": {
      "text/plain": [
       "('Russian', 14)"
      ]
     },
     "execution_count": 37,
     "metadata": {},
     "output_type": "execute_result"
    }
   ],
   "source": [
    "evaluate(cell, \"nankun\")"
   ]
  },
  {
   "cell_type": "code",
   "execution_count": 43,
   "metadata": {},
   "outputs": [
    {
     "data": {
      "text/plain": [
       "<matplotlib.legend.Legend at 0x7f44cc5fd908>"
      ]
     },
     "execution_count": 43,
     "metadata": {},
     "output_type": "execute_result"
    },
    {
     "data": {
      "image/png": "[encoded data removed]",
      "text/plain": [
       "<Figure size 432x288 with 1 Axes>"
      ]
     },
     "metadata": {},
     "output_type": "display_data"
    }
   ],
   "source": [
    "plt.plot(loss_hist_gru)\n",
    "plt.plot(loss_hist_rnn)\n",
    "plt.plot(loss_hist_linear_rnn)\n",
    "plt.legend(['GRU', 'RNN', 'Linear'])"
   ]
  },
  {
   "cell_type": "code",
   "execution_count": null,
   "metadata": {},
   "outputs": [],
   "source": []
  }
 ],
 "metadata": {
  "kernelspec": {
   "display_name": "Python 3",
   "language": "python",
   "name": "python3"
  },
  "language_info": {
   "codemirror_mode": {
    "name": "ipython",
    "version": 3
   },
   "file_extension": ".py",
   "mimetype": "text/x-python",
   "name": "python",
   "nbconvert_exporter": "python",
   "pygments_lexer": "ipython3",
   "version": "3.6.6"
  }
 },
 "nbformat": 4,
 "nbformat_minor": 2
}
