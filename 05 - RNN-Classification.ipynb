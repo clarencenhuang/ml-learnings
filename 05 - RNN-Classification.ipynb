{
 "cells": [
  {
   "cell_type": "markdown",
   "metadata": {},
   "source": [
    "# Character Level RNN Tutorial"
   ]
  },
  {
   "cell_type": "markdown",
   "metadata": {},
   "source": [
    "This follows the tutorial here: https://pytorch.org/tutorials/intermediate/char_rnn_classification_tutorial.html"
   ]
  },
  {
   "cell_type": "code",
   "execution_count": 2,
   "metadata": {},
   "outputs": [],
   "source": [
    "%matplotlib inline\n",
    "from io import open\n",
    "import glob\n",
    "import os\n",
    "import unicodedata\n",
    "import string\n",
    "import torch\n",
    "import torch.nn as nn\n",
    "import numpy as np\n",
    "import torch.optim as optim\n",
    "import torch.nn.functional as F\n",
    "import matplotlib.pyplot as plt\n",
    "import matplotlib.ticker as ticker\n",
    "plt.style.use('dark_background')"
   ]
  },
  {
   "cell_type": "code",
   "execution_count": 3,
   "metadata": {},
   "outputs": [],
   "source": [
    "files = glob.glob(\"/home/clarencenhuang/data/pytorch-tutorials/names/*.txt\")"
   ]
  },
  {
   "cell_type": "code",
   "execution_count": 4,
   "metadata": {},
   "outputs": [
    {
     "data": {
      "text/plain": [
       "['/home/clarencenhuang/data/pytorch-tutorials/names/Spanish.txt',\n",
       " '/home/clarencenhuang/data/pytorch-tutorials/names/Polish.txt',\n",
       " '/home/clarencenhuang/data/pytorch-tutorials/names/Portuguese.txt']"
      ]
     },
     "execution_count": 4,
     "metadata": {},
     "output_type": "execute_result"
    }
   ],
   "source": [
    "files[:3]"
   ]
  },
  {
   "cell_type": "markdown",
   "metadata": {},
   "source": [
    "### Text Normalization"
   ]
  },
  {
   "cell_type": "code",
   "execution_count": 5,
   "metadata": {},
   "outputs": [],
   "source": [
    "all_letters = string.ascii_letters + \" .,;'\"\n",
    "n_letters = len(all_letters)\n",
    "def unicode_to_ascii(s):\n",
    "    return ''.join(c for c in unicodedata.normalize('NFD', s) if unicodedata.category(c) != 'Mn' and c in all_letters)\n",
    "\n",
    "\n",
    "def read_lines(fname):\n",
    "    with open(fname, encoding='utf8') as fh:\n",
    "        lines = fh.read().strip().split('\\n')\n",
    "        return list(map(unicode_to_ascii, lines))\n",
    "    "
   ]
  },
  {
   "cell_type": "code",
   "execution_count": 6,
   "metadata": {},
   "outputs": [
    {
     "data": {
      "text/plain": [
       "'Slusarski'"
      ]
     },
     "execution_count": 6,
     "metadata": {},
     "output_type": "execute_result"
    }
   ],
   "source": [
    "unicode_to_ascii('Ślusàrski')"
   ]
  },
  {
   "cell_type": "code",
   "execution_count": 7,
   "metadata": {},
   "outputs": [],
   "source": [
    "category_lines = {}\n",
    "for fname in files:\n",
    "    category = os.path.splitext(os.path.basename(fname))[0]\n",
    "    category_lines[category] = read_lines(fname)\n",
    "n_categories = len(category_lines.keys())\n",
    "all_categories = sorted(category_lines.keys())\n",
    "cat2idx = {c:i for i,c in enumerate(sorted(category_lines.keys()))}\n",
    "idx2cat = {i:c for i,c in enumerate(sorted(category_lines.keys()))}"
   ]
  },
  {
   "cell_type": "code",
   "execution_count": 8,
   "metadata": {},
   "outputs": [
    {
     "data": {
      "text/plain": [
       "['Abe', 'Abukara', 'Adachi', 'Aida', 'Aihara']"
      ]
     },
     "execution_count": 8,
     "metadata": {},
     "output_type": "execute_result"
    }
   ],
   "source": [
    "category_lines['Japanese'][:5]"
   ]
  },
  {
   "cell_type": "markdown",
   "metadata": {},
   "source": [
    "### Data Encoding"
   ]
  },
  {
   "cell_type": "code",
   "execution_count": 9,
   "metadata": {},
   "outputs": [],
   "source": [
    "letter_to_idx = {c:i for i,c in enumerate(all_letters)}\n",
    "idx_to_letter = {i:c for i,c in enumerate(all_letters)}\n",
    "\n",
    "def letter2tensor(l):\n",
    "    t = torch.zeros(1, n_letters)\n",
    "    t[0, letter_to_idx[l]] = 1\n",
    "    return t\n",
    "\n",
    "def line2tensor(line):\n",
    "    t = torch.zeros(len(line), 1, n_letters)\n",
    "    for i in range(len(line)):\n",
    "        l = line[i]\n",
    "        t[i,:] = letter2tensor(l)\n",
    "    return t"
   ]
  },
  {
   "cell_type": "code",
   "execution_count": 10,
   "metadata": {},
   "outputs": [
    {
     "data": {
      "text/plain": [
       "torch.Size([5, 1, 57])"
      ]
     },
     "execution_count": 10,
     "metadata": {},
     "output_type": "execute_result"
    }
   ],
   "source": [
    "line2tensor(\"Jones\").shape"
   ]
  },
  {
   "cell_type": "markdown",
   "metadata": {},
   "source": [
    "### Create a Recurrent NN"
   ]
  },
  {
   "cell_type": "markdown",
   "metadata": {},
   "source": [
    "This is kind of a wierd RNN because it does\n",
    "\n",
    "h1 = W_i2h (x + h0) + b_input\n",
    "output = W_i2o (x + h0) + b_output\n"
   ]
  },
  {
   "cell_type": "code",
   "execution_count": 17,
   "metadata": {},
   "outputs": [],
   "source": [
    "class RNN(nn.Module):\n",
    "    \n",
    "    def __init__(self, input_size, hidden_size, output_size):\n",
    "        super(RNN, self).__init__()\n",
    "        self.hidden_size = hidden_size\n",
    "        self.i2h = nn.Linear(input_size + hidden_size, hidden_size)\n",
    "        self.i2o = nn.Linear(input_size + hidden_size, output_size)\n",
    "        self.softmax = nn.LogSoftmax(dim=1)\n",
    "        \n",
    "    def forward(self, x, h):\n",
    "        concat = torch.cat((x, h), 1)\n",
    "        h1 = self.i2h(concat)\n",
    "        o = self.i2o(concat)\n",
    "        o = self.softmax(o)\n",
    "        return o, h1  \n",
    "    \n",
    "    def init_hidden(self):\n",
    "        return torch.zeros(1, self.hidden_size)"
   ]
  },
  {
   "cell_type": "code",
   "execution_count": 18,
   "metadata": {},
   "outputs": [],
   "source": [
    "n_hidden = 128\n",
    "rnn = RNN(n_letters, n_hidden, n_categories)"
   ]
  },
  {
   "cell_type": "raw",
   "metadata": {},
   "source": [
    "Try on a letter"
   ]
  },
  {
   "cell_type": "code",
   "execution_count": 19,
   "metadata": {},
   "outputs": [],
   "source": [
    "inp = letter2tensor(\"A\")\n",
    "hidden = torch.zeros(1, n_hidden)\n",
    "o, nh = rnn(inp, hidden)"
   ]
  },
  {
   "cell_type": "markdown",
   "metadata": {},
   "source": [
    "Try on a line"
   ]
  },
  {
   "cell_type": "code",
   "execution_count": 20,
   "metadata": {},
   "outputs": [
    {
     "data": {
      "text/plain": [
       "torch.Size([1, 18])"
      ]
     },
     "execution_count": 20,
     "metadata": {},
     "output_type": "execute_result"
    }
   ],
   "source": [
    "inp = line2tensor(\"Nankun\")\n",
    "hidden = torch.zeros(1, n_hidden)\n",
    "o, nh = rnn(inp[0], hidden)\n",
    "o.shape"
   ]
  },
  {
   "cell_type": "code",
   "execution_count": 21,
   "metadata": {},
   "outputs": [],
   "source": [
    "def category_from_output(o):\n",
    "    idx = o.topk(1)[1].item()\n",
    "    return idx2cat[idx], idx"
   ]
  },
  {
   "cell_type": "code",
   "execution_count": 22,
   "metadata": {},
   "outputs": [
    {
     "data": {
      "text/plain": [
       "('Scottish', 15)"
      ]
     },
     "execution_count": 22,
     "metadata": {},
     "output_type": "execute_result"
    }
   ],
   "source": [
    "category_from_output(o)"
   ]
  },
  {
   "cell_type": "code",
   "execution_count": 23,
   "metadata": {},
   "outputs": [],
   "source": [
    "def random_training_sample():\n",
    "    category = np.random.choice(all_categories)\n",
    "    line = np.random.choice(category_lines[category])\n",
    "    category_tensor = torch.LongTensor([cat2idx[category]])\n",
    "    line_tensor = line2tensor(line)\n",
    "    return category, line, category_tensor, line_tensor"
   ]
  },
  {
   "cell_type": "markdown",
   "metadata": {},
   "source": [
    "### Training Process"
   ]
  },
  {
   "cell_type": "code",
   "execution_count": 250,
   "metadata": {},
   "outputs": [],
   "source": [
    "criterion = nn.NLLLoss()\n",
    "cell = RNN(n_letters, n_hidden, n_categories)\n",
    "optimizer = optim.Adam(cell.parameters(), lr=0.001)\n",
    "epochs = 100000\n",
    "def train(cell, epochs, optimizer, loss_every=1000):\n",
    "    losses = []\n",
    "    total_loss = 0\n",
    "    cell.train()\n",
    "    for e in range(epochs):\n",
    "        _, _, cat_tensor, line_tensor = random_training_sample()\n",
    "        optimizer.zero_grad()\n",
    "        h = cell.init_hidden()\n",
    "        for i in range(line_tensor.shape[0]):\n",
    "            o, h = cell(line_tensor[i], h)\n",
    "        \n",
    "        loss = criterion(o, cat_tensor)\n",
    "        loss.backward()\n",
    "        #nn.utils.clip_grad_norm_(cell.parameters(), 10)\n",
    "        optimizer.step()\n",
    "        \n",
    "        total_loss += loss.item()\n",
    "        if (e+1) % loss_every == 0: \n",
    "            losses.append(total_loss/loss_every)\n",
    "            print(f\"epoch {e+1} running loss is {total_loss/loss_every}\")\n",
    "            total_loss = 0\n",
    "    return losses"
   ]
  },
  {
   "cell_type": "code",
   "execution_count": null,
   "metadata": {},
   "outputs": [],
   "source": [
    "losses = train(cell, epochs, optimizer)"
   ]
  },
  {
   "cell_type": "code",
   "execution_count": 252,
   "metadata": {},
   "outputs": [
    {
     "data": {
      "text/plain": [
       "[<matplotlib.lines.Line2D at 0x7ff7e8e7d4e0>]"
      ]
     },
     "execution_count": 252,
     "metadata": {},
     "output_type": "execute_result"
    },
    {
     "data": {
      "image/png": "[encoded data removed]",
      "text/plain": [
       "<Figure size 432x288 with 1 Axes>"
      ]
     },
     "metadata": {},
     "output_type": "display_data"
    }
   ],
   "source": [
    "plt.plot(losses)"
   ]
  },
  {
   "cell_type": "code",
   "execution_count": 24,
   "metadata": {},
   "outputs": [
    {
     "ename": "NameError",
     "evalue": "name 'cell' is not defined",
     "output_type": "error",
     "traceback": [
      "\u001b[0;31m---------------------------------------------------------------------------\u001b[0m",
      "\u001b[0;31mNameError\u001b[0m                                 Traceback (most recent call last)",
      "\u001b[0;32m<ipython-input-24-e727e4e33699>\u001b[0m in \u001b[0;36m<module>\u001b[0;34m()\u001b[0m\n\u001b[1;32m      1\u001b[0m \u001b[0m_\u001b[0m\u001b[0;34m,\u001b[0m\u001b[0m_\u001b[0m\u001b[0;34m,\u001b[0m\u001b[0mct\u001b[0m\u001b[0;34m,\u001b[0m\u001b[0mlt\u001b[0m \u001b[0;34m=\u001b[0m \u001b[0mrandom_training_sample\u001b[0m\u001b[0;34m(\u001b[0m\u001b[0;34m)\u001b[0m\u001b[0;34m\u001b[0m\u001b[0m\n\u001b[0;32m----> 2\u001b[0;31m \u001b[0mo\u001b[0m\u001b[0;34m,\u001b[0m\u001b[0m_\u001b[0m \u001b[0;34m=\u001b[0m \u001b[0mcell\u001b[0m\u001b[0;34m(\u001b[0m\u001b[0mlt\u001b[0m\u001b[0;34m[\u001b[0m\u001b[0;36m0\u001b[0m\u001b[0;34m]\u001b[0m\u001b[0;34m,\u001b[0m\u001b[0mcell\u001b[0m\u001b[0;34m.\u001b[0m\u001b[0minit_hidden\u001b[0m\u001b[0;34m(\u001b[0m\u001b[0;34m)\u001b[0m\u001b[0;34m)\u001b[0m\u001b[0;34m\u001b[0m\u001b[0m\n\u001b[0m\u001b[1;32m      3\u001b[0m \u001b[0mtorch\u001b[0m\u001b[0;34m.\u001b[0m\u001b[0mexp\u001b[0m\u001b[0;34m(\u001b[0m\u001b[0mo\u001b[0m\u001b[0;34m)\u001b[0m\u001b[0;34m.\u001b[0m\u001b[0msum\u001b[0m\u001b[0;34m(\u001b[0m\u001b[0;34m)\u001b[0m\u001b[0;34m,\u001b[0m \u001b[0mo\u001b[0m\u001b[0;34m\u001b[0m\u001b[0m\n",
      "\u001b[0;31mNameError\u001b[0m: name 'cell' is not defined"
     ]
    }
   ],
   "source": [
    "_,_,ct,lt = random_training_sample()\n",
    "o,_ = cell(lt[0],cell.init_hidden())\n",
    "torch.exp(o).sum(), o"
   ]
  },
  {
   "cell_type": "code",
   "execution_count": 28,
   "metadata": {},
   "outputs": [],
   "source": [
    "def evaluate(cell, x):\n",
    "    if isinstance(x, str):\n",
    "        x = line2tensor(x)\n",
    "    cell.eval()\n",
    "    h = torch.zeros(1, n_hidden)\n",
    "    for i in range(x.shape[0]): \n",
    "        o, h = cell(x[i], h)\n",
    "    return category_from_output(o)"
   ]
  },
  {
   "cell_type": "code",
   "execution_count": 29,
   "metadata": {},
   "outputs": [],
   "source": [
    "def show_confusion(cell):\n",
    "    confusion = np.zeros((n_categories, n_categories))\n",
    "    n_confusion = 10000\n",
    "    for i in range(n_confusion):\n",
    "        category, _, _, line_tensor = random_training_sample()\n",
    "        _, idx = evaluate(cell, line_tensor)\n",
    "        confusion[cat2idx[category], idx] += 1\n",
    "    confusion = confusion / confusion.sum(axis=1)\n",
    "    fig = plt.figure()\n",
    "    ax = fig.add_subplot(111)\n",
    "    cax = ax.matshow(confusion)\n",
    "    fig.colorbar(cax)\n",
    "\n",
    "    # Set up axes\n",
    "    ax.set_xticklabels([''] + all_categories, rotation=90)\n",
    "    ax.set_yticklabels([''] + all_categories)\n",
    "\n",
    "    # Force label at every tick\n",
    "    ax.xaxis.set_major_locator(ticker.MultipleLocator(1))\n",
    "    ax.yaxis.set_major_locator(ticker.MultipleLocator(1))\n",
    "\n",
    "    # sphinx_gallery_thumbnail_number = 2\n",
    "    plt.show()"
   ]
  },
  {
   "cell_type": "code",
   "execution_count": 285,
   "metadata": {},
   "outputs": [
    {
     "data": {
      "image/png": "[encoded data removed]",
      "text/plain": [
       "<Figure size 432x288 with 2 Axes>"
      ]
     },
     "metadata": {},
     "output_type": "display_data"
    }
   ],
   "source": [
    "show_confusion(cell)"
   ]
  },
  {
   "cell_type": "markdown",
   "metadata": {},
   "source": [
    "### Exercise 1, try training this stuff on a torch.RNN cell which has a nonlinearity"
   ]
  },
  {
   "cell_type": "code",
   "execution_count": 325,
   "metadata": {},
   "outputs": [],
   "source": [
    "class WordRNN(nn.Module):\n",
    "    \n",
    "    def __init__(self, n_input, n_hidden, n_output):\n",
    "        super(WordRNN, self).__init__()\n",
    "        self.rnn_cell = nn.RNNCell(n_input, n_hidden)\n",
    "        self.h2o = nn.Linear(n_hidden, n_output)\n",
    "    \n",
    "    def forward(self, x, h):\n",
    "        h = self.rnn_cell(x, h)\n",
    "        o = self.h2o(h)\n",
    "        return o, h\n",
    "    \n",
    "    def init_hidden(self):\n",
    "        return torch.zeros(1, n_hidden)"
   ]
  },
  {
   "cell_type": "code",
   "execution_count": 14,
   "metadata": {},
   "outputs": [],
   "source": [
    "def train_rnn(cell, optimizer, criterion, epochs, print_every=5000):\n",
    "    cell.train()\n",
    "    tloss = 0\n",
    "    losses = []\n",
    "    for e in range(0, epochs):\n",
    "        _, _, cat_tensor, line_tensor = random_training_sample()\n",
    "        cat_tensor, line_tensor = cat_tensor.cuda(), line_tensor.cuda()\n",
    "        optimizer.zero_grad()\n",
    "        h = cell.init_hidden()\n",
    "        for t in range(line_tensor.shape[0]):\n",
    "            o, h = cell(line_tensor[t], h)\n",
    "        output = F.log_softmax(o, dim=1)\n",
    "        loss = criterion(output, cat_tensor)\n",
    "        loss.backward()\n",
    "        optimizer.step()\n",
    "        \n",
    "        tloss += loss.item()\n",
    "        if e > 0 and e % print_every == 0:\n",
    "            print(f\"epoch: {e} loss: {tloss/print_every}\")\n",
    "            losses.append(tloss/print_every)\n",
    "            tloss = 0\n",
    "    return losses"
   ]
  },
  {
   "cell_type": "code",
   "execution_count": null,
   "metadata": {},
   "outputs": [],
   "source": [
    "cell = WordRNN(n_letters, n_hidden, n_categories)\n",
    "#cell.cuda()\n",
    "criterion = nn.NLLLoss()\n",
    "optimizer = optim.Adam(cell.parameters(), lr=0.001)\n",
    "epochs = 100000\n",
    "train_rnn(cell, optimizer, criterion, epochs)"
   ]
  },
  {
   "cell_type": "code",
   "execution_count": 346,
   "metadata": {},
   "outputs": [
    {
     "data": {
      "image/png": "[encoded data removed]",
      "text/plain": [
       "<Figure size 432x288 with 2 Axes>"
      ]
     },
     "metadata": {},
     "output_type": "display_data"
    }
   ],
   "source": [
    "show_confusion(cell)"
   ]
  },
  {
   "cell_type": "code",
   "execution_count": 357,
   "metadata": {},
   "outputs": [
    {
     "data": {
      "text/plain": [
       "('Korean', 11)"
      ]
     },
     "execution_count": 357,
     "metadata": {},
     "output_type": "execute_result"
    }
   ],
   "source": [
    "evaluate(cell, \"Ahn\")"
   ]
  },
  {
   "cell_type": "markdown",
   "metadata": {},
   "source": [
    "### Lets try a GRU "
   ]
  },
  {
   "cell_type": "code",
   "execution_count": 25,
   "metadata": {},
   "outputs": [],
   "source": [
    "class WordGRU(nn.Module):\n",
    "    \n",
    "    def __init__(self, n_input, n_hidden, n_output):\n",
    "        super(WordGRU, self).__init__()\n",
    "        self.rnn_cell = nn.GRUCell(n_input, n_hidden)\n",
    "        self.h2o = nn.Linear(n_hidden, n_output)\n",
    "    \n",
    "    def forward(self, x, h):\n",
    "        h = self.rnn_cell(x, h)\n",
    "        o = self.h2o(h)\n",
    "        return o, h\n",
    "    \n",
    "    def init_hidden(self):\n",
    "        zeros = torch.zeros(1, n_hidden)\n",
    "        if next(self.parameters()).is_cuda:\n",
    "            zeros = zeros.cuda()\n",
    "        return zeros"
   ]
  },
  {
   "cell_type": "code",
   "execution_count": 26,
   "metadata": {},
   "outputs": [
    {
     "name": "stdout",
     "output_type": "stream",
     "text": [
      "epoch: 5000 loss: 1.890376022386551\n",
      "epoch: 10000 loss: 1.3290348747253418\n",
      "epoch: 15000 loss: 1.0845191924333573\n",
      "epoch: 20000 loss: 0.9691485266208648\n",
      "epoch: 25000 loss: 0.8065481416225433\n",
      "epoch: 30000 loss: 0.6944058275222779\n",
      "epoch: 35000 loss: 0.6168282848119736\n",
      "epoch: 40000 loss: 0.5375191259384156\n",
      "epoch: 45000 loss: 0.5144057177782059\n",
      "epoch: 50000 loss: 0.4581330612897873\n",
      "epoch: 55000 loss: 0.43231294062137604\n",
      "epoch: 60000 loss: 0.40788366253376007\n",
      "epoch: 65000 loss: 0.388619363451004\n",
      "epoch: 70000 loss: 0.3730065599441528\n",
      "epoch: 75000 loss: 0.3644416515827179\n",
      "epoch: 80000 loss: 0.35300851027965546\n",
      "epoch: 85000 loss: 0.36078103289604185\n",
      "epoch: 90000 loss: 0.32710405464172365\n",
      "epoch: 95000 loss: 0.3268288905620575\n"
     ]
    },
    {
     "data": {
      "text/plain": [
       "[1.890376022386551,\n",
       " 1.3290348747253418,\n",
       " 1.0845191924333573,\n",
       " 0.9691485266208648,\n",
       " 0.8065481416225433,\n",
       " 0.6944058275222779,\n",
       " 0.6168282848119736,\n",
       " 0.5375191259384156,\n",
       " 0.5144057177782059,\n",
       " 0.4581330612897873,\n",
       " 0.43231294062137604,\n",
       " 0.40788366253376007,\n",
       " 0.388619363451004,\n",
       " 0.3730065599441528,\n",
       " 0.3644416515827179,\n",
       " 0.35300851027965546,\n",
       " 0.36078103289604185,\n",
       " 0.32710405464172365,\n",
       " 0.3268288905620575]"
      ]
     },
     "execution_count": 26,
     "metadata": {},
     "output_type": "execute_result"
    }
   ],
   "source": [
    "cell = WordGRU(n_letters, n_hidden, n_categories)\n",
    "cell.cuda()\n",
    "criterion = nn.NLLLoss()\n",
    "optimizer = optim.Adam(cell.parameters(), lr=0.001)\n",
    "epochs = 100000\n",
    "train_rnn(cell, optimizer, criterion, epochs)"
   ]
  },
  {
   "cell_type": "code",
   "execution_count": 30,
   "metadata": {},
   "outputs": [
    {
     "data": {
      "image/png": "[encoded data removed]",
      "text/plain": [
       "<Figure size 432x288 with 2 Axes>"
      ]
     },
     "metadata": {},
     "output_type": "display_data"
    }
   ],
   "source": [
    "cell.cpu()\n",
    "show_confusion(cell)"
   ]
  },
  {
   "cell_type": "code",
   "execution_count": null,
   "metadata": {},
   "outputs": [],
   "source": []
  }
 ],
 "metadata": {
  "kernelspec": {
   "display_name": "Python 3",
   "language": "python",
   "name": "python3"
  },
  "language_info": {
   "codemirror_mode": {
    "name": "ipython",
    "version": 3
   },
   "file_extension": ".py",
   "mimetype": "text/x-python",
   "name": "python",
   "nbconvert_exporter": "python",
   "pygments_lexer": "ipython3",
   "version": "3.6.6"
  }
 },
 "nbformat": 4,
 "nbformat_minor": 2
}
