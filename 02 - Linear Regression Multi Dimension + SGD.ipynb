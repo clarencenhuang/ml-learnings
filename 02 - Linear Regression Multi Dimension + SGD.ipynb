{
 "cells": [
  {
   "cell_type": "markdown",
   "metadata": {},
   "source": [
    "# Linear Regression Multi Dimension + SGD Study"
   ]
  },
  {
   "cell_type": "markdown",
   "metadata": {},
   "source": [
    "8-10-2018\n",
    "Setup"
   ]
  },
  {
   "cell_type": "code",
   "execution_count": 120,
   "metadata": {},
   "outputs": [],
   "source": [
    "%matplotlib inline\n",
    "\n",
    "import numpy as np\n",
    "import matplotlib.pyplot as plt"
   ]
  },
  {
   "cell_type": "code",
   "execution_count": 121,
   "metadata": {},
   "outputs": [],
   "source": [
    "def loss(yt, y):\n",
    "    return np.mean((yt - y)**2)/2"
   ]
  },
  {
   "cell_type": "markdown",
   "metadata": {},
   "source": [
    "generate a bunch of random points"
   ]
  },
  {
   "cell_type": "code",
   "execution_count": 122,
   "metadata": {},
   "outputs": [],
   "source": [
    "m = np.random.randn(2)\n",
    "x = np.random.randn(2,1000) * 10\n",
    "btrue = np.random.randn()\n",
    "mtrue = np.random.randn(2,1)\n",
    "y = mtrue.T @ x + btrue + np.random.randn(1,1000)"
   ]
  },
  {
   "cell_type": "markdown",
   "metadata": {},
   "source": [
    "what is native loss?"
   ]
  },
  {
   "cell_type": "code",
   "execution_count": 123,
   "metadata": {},
   "outputs": [
    {
     "name": "stdout",
     "output_type": "stream",
     "text": [
      "Naive loss is 335.59179256036526\n"
     ]
    }
   ],
   "source": [
    "m = np.random.randn(2,1)\n",
    "b = 0.0\n",
    "yp = m.T @ x + b\n",
    "print(f\"Naive loss is {loss(yp.squeeze(), y)}\")"
   ]
  },
  {
   "cell_type": "markdown",
   "metadata": {},
   "source": [
    "## SGD mini batch"
   ]
  },
  {
   "cell_type": "markdown",
   "metadata": {},
   "source": [
    "Vectorized SGD with mini batch"
   ]
  },
  {
   "cell_type": "code",
   "execution_count": 124,
   "metadata": {},
   "outputs": [],
   "source": [
    "def sgd(state, params, grads, lr=0.01):\n",
    "    nps = []\n",
    "    for p, dp in zip(params, grads):\n",
    "        nps.append(p - lr * dp)\n",
    "    return state, nps"
   ]
  },
  {
   "cell_type": "code",
   "execution_count": 125,
   "metadata": {},
   "outputs": [],
   "source": [
    "def train(gradfunc, epochs = 40, bs = 100, lr = 0.01):\n",
    "    w = np.random.randn(2,1)\n",
    "    b = 0.0\n",
    "    idxs = np.arange(x.shape[1])\n",
    "    for e in range(epochs):\n",
    "        bs_idxs = np.random.choice(idxs, bs, replace=False)\n",
    "        x_batch = x[:, bs_idxs]\n",
    "        # forward\n",
    "        yh = w.T @ x_batch + b\n",
    "\n",
    "        # back\n",
    "        dyh = yh - y[:, bs_idxs]\n",
    "        dw = x_batch @ dyh.T  / bs\n",
    "        db = np.mean(dyh)\n",
    "\n",
    "        s, [w,b] = gradfunc({}, [w, b], [dw, db])\n",
    "    return w,b"
   ]
  },
  {
   "cell_type": "code",
   "execution_count": 139,
   "metadata": {},
   "outputs": [
    {
     "name": "stdout",
     "output_type": "stream",
     "text": [
      "loss using SGD after 40 epochs is 0.7798154087217438\n"
     ]
    }
   ],
   "source": [
    "w,b = train(sgd)\n",
    "yp = w.T @ x + b\n",
    "print(f\"loss using SGD after 40 epochs is {loss(y, yp)}\")"
   ]
  },
  {
   "cell_type": "markdown",
   "metadata": {},
   "source": [
    "## Momentum method"
   ]
  },
  {
   "cell_type": "code",
   "execution_count": 131,
   "metadata": {},
   "outputs": [],
   "source": [
    "def momentum(state, params, grads, lr=0.01, m=0.9):\n",
    "    import numpy as np\n",
    "    vs = state.get('v', list(np.zeros(len(params))))\n",
    "    nvs = []\n",
    "    nps = []\n",
    "    for p, dp, v in zip(params, grads, vs):\n",
    "        nv = m * v + lr * dp\n",
    "        np = p - nv\n",
    "        nvs.append(nv)\n",
    "        nps.append(np)\n",
    "    return {'v': nvs}, nps"
   ]
  },
  {
   "cell_type": "code",
   "execution_count": 140,
   "metadata": {},
   "outputs": [
    {
     "name": "stdout",
     "output_type": "stream",
     "text": [
      "loss using momentum after 40 epochs is 0.7779136497680056\n"
     ]
    }
   ],
   "source": [
    "w,b = train(momentum)\n",
    "yp = w.T @ x + b\n",
    "print(f\"loss using momentum after 40 epochs is {loss(y, yp)}\")"
   ]
  }
 ],
 "metadata": {
  "kernelspec": {
   "display_name": "conda_pytorch_p36",
   "language": "python",
   "name": "conda_pytorch_p36"
  },
  "language_info": {
   "codemirror_mode": {
    "name": "ipython",
    "version": 3
   },
   "file_extension": ".py",
   "mimetype": "text/x-python",
   "name": "python",
   "nbconvert_exporter": "python",
   "pygments_lexer": "ipython3",
   "version": "3.6.5"
  }
 },
 "nbformat": 4,
 "nbformat_minor": 2
}
