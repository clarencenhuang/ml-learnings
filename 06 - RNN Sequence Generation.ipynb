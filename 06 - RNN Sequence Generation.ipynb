{
 "cells": [
  {
   "cell_type": "markdown",
   "metadata": {},
   "source": [
    "# Character RNN Sequence Generation Tutorial"
   ]
  },
  {
   "cell_type": "markdown",
   "metadata": {},
   "source": [
    "This follows the tutorial here: https://pytorch.org/tutorials/intermediate/char_rnn_generation_tutorial.html"
   ]
  },
  {
   "cell_type": "code",
   "execution_count": 1,
   "metadata": {},
   "outputs": [],
   "source": [
    "%matplotlib inline\n",
    "from io import open\n",
    "import glob\n",
    "import os\n",
    "import unicodedata\n",
    "import string\n",
    "import torch\n",
    "import torch.nn as nn\n",
    "import numpy as np\n",
    "import torch.optim as optim\n",
    "import torch.nn.functional as F\n",
    "import matplotlib.pyplot as plt\n",
    "import matplotlib.ticker as ticker\n",
    "plt.style.use('dark_background')"
   ]
  },
  {
   "cell_type": "markdown",
   "metadata": {},
   "source": [
    "### Import functions used in last tutorial"
   ]
  },
  {
   "cell_type": "code",
   "execution_count": 4,
   "metadata": {},
   "outputs": [],
   "source": [
    "files = glob.glob(\"/home/clarencenhuang/data/pytorch-tutorials/names/*.txt\")\n",
    "all_letters = string.ascii_letters + \" .,;'\"\n",
    "n_letters = len(all_letters)\n",
    "\n",
    "# remove wierd characters\n",
    "def unicode_to_ascii(s):\n",
    "    return ''.join(c for c in unicodedata.normalize('NFD', s) if unicodedata.category(c) != 'Mn' and c in all_letters)\n",
    "\n",
    "# parse text into lines and remove wierd characters\n",
    "def read_lines(fname):\n",
    "    with open(fname, encoding='utf8') as fh:\n",
    "        lines = fh.read().strip().split('\\n')\n",
    "        return list(map(unicode_to_ascii, lines))\n",
    "\n",
    "# parse and create mapping of category names to index\n",
    "category_lines = {}\n",
    "for fname in files:\n",
    "    category = os.path.splitext(os.path.basename(fname))[0]\n",
    "    category_lines[category] = read_lines(fname)\n",
    "n_categories = len(category_lines.keys())\n",
    "all_categories = sorted(category_lines.keys())\n",
    "cat2idx = {c:i for i,c in enumerate(sorted(category_lines.keys()))}\n",
    "idx2cat = {i:c for i,c in enumerate(sorted(category_lines.keys()))}\n",
    "\n",
    "letter_to_idx = {c:i for i,c in enumerate(all_letters)}\n",
    "idx_to_letter = {i:c for i,c in enumerate(all_letters)}\n",
    "\n",
    "# character embedding 1-hot\n",
    "def letter2tensor(l):\n",
    "    t = torch.zeros(1, n_letters)\n",
    "    t[0, letter_to_idx[l]] = 1\n",
    "    return t\n",
    "\n",
    "def line2tensor(line):\n",
    "    t = torch.zeros(len(line), 1, n_letters)\n",
    "    for i in range(len(line)):\n",
    "        l = line[i]\n",
    "        t[i,:] = letter2tensor(l)\n",
    "    return t\n",
    "\n",
    "def category_from_output(o):\n",
    "    idx = o.topk(1)[1].item()\n",
    "    return idx2cat[idx], idx\n",
    "\n",
    "# get training example\n",
    "def random_training_sample():\n",
    "    category = np.random.choice(all_categories)\n",
    "    line = np.random.choice(category_lines[category])\n",
    "    category_tensor = torch.LongTensor([cat2idx[category]])\n",
    "    line_tensor = line2tensor(line)\n",
    "    return category, line, category_tensor, line_tensor"
   ]
  },
  {
   "cell_type": "code",
   "execution_count": null,
   "metadata": {},
   "outputs": [],
   "source": []
  }
 ],
 "metadata": {
  "kernelspec": {
   "display_name": "Python 3",
   "language": "python",
   "name": "python3"
  },
  "language_info": {
   "codemirror_mode": {
    "name": "ipython",
    "version": 3
   },
   "file_extension": ".py",
   "mimetype": "text/x-python",
   "name": "python",
   "nbconvert_exporter": "python",
   "pygments_lexer": "ipython3",
   "version": "3.6.6"
  }
 },
 "nbformat": 4,
 "nbformat_minor": 2
}
