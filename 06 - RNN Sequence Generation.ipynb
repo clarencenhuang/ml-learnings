{
 "cells": [
  {
   "cell_type": "markdown",
   "metadata": {},
   "source": [
    "# Character RNN Sequence Generation Tutorial"
   ]
  },
  {
   "cell_type": "markdown",
   "metadata": {},
   "source": [
    "This follows the tutorial here: https://pytorch.org/tutorials/intermediate/char_rnn_generation_tutorial.html"
   ]
  },
  {
   "cell_type": "code",
   "execution_count": 1,
   "metadata": {},
   "outputs": [],
   "source": [
    "%matplotlib inline\n",
    "from io import open\n",
    "import glob\n",
    "import os\n",
    "import unicodedata\n",
    "import string\n",
    "import torch\n",
    "import torch.nn as nn\n",
    "import numpy as np\n",
    "import torch.optim as optim\n",
    "import torch.nn.functional as F\n",
    "import matplotlib.pyplot as plt\n",
    "import matplotlib.ticker as ticker\n",
    "plt.style.use('dark_background')"
   ]
  },
  {
   "cell_type": "markdown",
   "metadata": {},
   "source": [
    "### Import functions used in last tutorial"
   ]
  },
  {
   "cell_type": "code",
   "execution_count": 198,
   "metadata": {},
   "outputs": [],
   "source": [
    "files = glob.glob(\"/home/clarencenhuang/data/pytorch-tutorials/names/*.txt\")\n",
    "all_letters = string.ascii_letters + \" .,;'\"\n",
    "n_letters = len(all_letters) + 1\n",
    "letter_to_idx = {c:i for i,c in enumerate(all_letters)}\n",
    "idx_to_letter = {i:c for i,c in enumerate(all_letters)}\n",
    "# we use None to denote EOS\n",
    "letter_to_idx[None] = n_letters -1\n",
    "idx_to_letter[n_letters -1] = None\n",
    "n_hidden = 128\n",
    "\n",
    "# remove wierd characters\n",
    "def unicode_to_ascii(s):\n",
    "    return ''.join(c for c in unicodedata.normalize('NFD', s) if unicodedata.category(c) != 'Mn' and c in all_letters)\n",
    "\n",
    "# parse text into lines and remove wierd characters\n",
    "def read_lines(fname):\n",
    "    with open(fname, encoding='utf8') as fh:\n",
    "        lines = fh.read().strip().split('\\n')\n",
    "        return list(map(unicode_to_ascii, lines))\n",
    "\n",
    "# parse and create mapping of category names to index\n",
    "category_lines = {}\n",
    "for fname in files:\n",
    "    category = os.path.splitext(os.path.basename(fname))[0]\n",
    "    category_lines[category] = read_lines(fname)\n",
    "n_categories = len(category_lines.keys())\n",
    "all_categories = sorted(category_lines.keys())\n",
    "cat2idx = {c:i for i,c in enumerate(sorted(category_lines.keys()))}\n",
    "idx2cat = {i:c for i,c in enumerate(sorted(category_lines.keys()))}\n",
    "\n",
    "\n",
    "def letter2tensor(l):\n",
    "    t = torch.zeros(1, n_letters)\n",
    "    t[0, letter_to_idx[l]] = 1\n",
    "    return t\n",
    "\n",
    "# character embedding 1-hot\n",
    "def line2tensor(line):\n",
    "    t = torch.zeros(len(line), 1, n_letters)\n",
    "    for i in range(len(line)):\n",
    "        l = line[i]\n",
    "        t[i,:] = letter2tensor(l)\n",
    "    return t\n",
    "\n",
    "def category_from_output(o):\n",
    "    idx = o.topk(1)[1].item()\n",
    "    return idx2cat[idx], idx\n",
    "\n",
    "# get training example\n",
    "def random_training_sample():\n",
    "    category = np.random.choice(all_categories)\n",
    "    line = np.random.choice(category_lines[category])\n",
    "    line_tensor = line2tensor(line)\n",
    "    return category, line, cat2tensor(category), line_tensor\n",
    "\n",
    "\n",
    "def cat2tensor(cat):\n",
    "    category_tensor = torch.zeros((1, n_categories))\n",
    "    one_hot = cat2idx[cat]\n",
    "    category_tensor[0, one_hot] = 1\n",
    "    return category_tensor\n",
    "\n",
    "def line2target(line):\n",
    "    t = torch.zeros((len(line), 1), dtype=torch.long)\n",
    "    for i in range(1, len(line)):\n",
    "        t[i-1, 0] = letter_to_idx[line[i]]\n",
    "    t[len(line)-1, 0] = letter_to_idx[None]\n",
    "    return t\n",
    "\n",
    "\n",
    "def out2letter(log_softmax_output, sample_randomly=False):\n",
    "    if sample_randomly:\n",
    "        probs = torch.exp(log_softmax_output.squeeze()).numpy()\n",
    "        idx = np.random.choice(range(probs.shape[0]), p=probs)\n",
    "    else:\n",
    "        idx = log_softmax_output.squeeze().topk(1)[1].item() \n",
    "    return idx_to_letter[idx]"
   ]
  },
  {
   "cell_type": "code",
   "execution_count": 199,
   "metadata": {},
   "outputs": [
    {
     "data": {
      "text/plain": [
       "(torch.Size([7, 1, 58]), 58)"
      ]
     },
     "execution_count": 199,
     "metadata": {},
     "output_type": "execute_result"
    }
   ],
   "source": [
    "random_training_sample()[3].shape, n_letters"
   ]
  },
  {
   "cell_type": "markdown",
   "metadata": {},
   "source": [
    "### Linear RNN"
   ]
  },
  {
   "cell_type": "code",
   "execution_count": 169,
   "metadata": {},
   "outputs": [],
   "source": [
    "class LinearCell(nn.Module):\n",
    "    \n",
    "    def __init__(self, n_input, n_hidden, n_output):\n",
    "        super(LinearCell, self).__init__()\n",
    "        input_dims = n_input + n_hidden + n_categories\n",
    "        self.i2h = nn.Linear(input_dims, n_hidden)\n",
    "        self.i2o = nn.Linear(input_dims, n_output)\n",
    "        self.o2o = nn.Linear(n_output + n_hidden, n_output)\n",
    "        \n",
    "    def forward(self, x, cat, h):\n",
    "        x = torch.cat((x, h, cat), 1)\n",
    "        h = self.i2h(x)\n",
    "        o = self.i2o(x)\n",
    "        o = torch.cat((o, h), 1)\n",
    "        o = self.o2o(o)\n",
    "        o = F.dropout(o, 0.1)\n",
    "        o = F.log_softmax(o, dim=1)\n",
    "        return o, h\n",
    "    \n",
    "    def init_hidden(self):\n",
    "        zeros = torch.zeros(1, n_hidden)\n",
    "        if next(self.parameters()).is_cuda:\n",
    "            zeros = zeros.cuda()\n",
    "        return zeros"
   ]
  },
  {
   "cell_type": "code",
   "execution_count": 170,
   "metadata": {},
   "outputs": [],
   "source": [
    "def train(cell, optimizer, criterion, epochs, print_every=5000, cuda=False):\n",
    "    cell.train()\n",
    "    tloss = 0\n",
    "    losses = []\n",
    "    for e in range(0, epochs):\n",
    "        _, line, cat_tensor, line_tensor = random_training_sample()\n",
    "        line_target = line2target(line)\n",
    "        if cuda:\n",
    "            cat_tensor, line_tensor, line_target = cat_tensor.cuda(), line_tensor.cuda(), line_target.cuda()\n",
    "        \n",
    "        optimizer.zero_grad()\n",
    "        loss = 0\n",
    "        tsteps = line_tensor.shape[0]\n",
    "        h = cell.init_hidden()\n",
    "        for t in range(tsteps):\n",
    "            o, h = cell(line_tensor[t], cat_tensor, h)\n",
    "            loss += criterion(o, line_target[t])\n",
    "        loss.backward()\n",
    "        optimizer.step()\n",
    "        \n",
    "        tloss += loss.item() / len(line)\n",
    "        if e > 0 and e % print_every == 0:\n",
    "            print(f\"epoch: {e} loss: {tloss/print_every}\")\n",
    "            losses.append(tloss/print_every)\n",
    "            tloss = 0\n",
    "    return losses"
   ]
  },
  {
   "cell_type": "code",
   "execution_count": 171,
   "metadata": {},
   "outputs": [],
   "source": [
    "cell = LinearCell(n_letters, n_hidden, n_letters)\n",
    "criterion = nn.NLLLoss()\n",
    "optimizer = optim.Adam(cell.parameters(), lr=0.001)\n",
    "epochs = 100000"
   ]
  },
  {
   "cell_type": "code",
   "execution_count": 172,
   "metadata": {},
   "outputs": [
    {
     "name": "stdout",
     "output_type": "stream",
     "text": [
      "epoch: 5000 loss: 2.3227754193390027\n",
      "epoch: 10000 loss: 2.126191231218805\n",
      "epoch: 15000 loss: 2.087683105596935\n",
      "epoch: 20000 loss: 2.0712797393825766\n",
      "epoch: 25000 loss: 2.0555229586725328\n",
      "epoch: 30000 loss: 2.045932714700742\n",
      "epoch: 35000 loss: 2.033117783477073\n",
      "epoch: 40000 loss: 2.0308800922286006\n",
      "epoch: 45000 loss: 2.0330728481131404\n",
      "epoch: 50000 loss: 2.0243034010176455\n",
      "epoch: 55000 loss: 2.018532508848233\n",
      "epoch: 60000 loss: 2.0125394438467668\n",
      "epoch: 65000 loss: 2.001213475367243\n",
      "epoch: 70000 loss: 2.0037872709137003\n",
      "epoch: 75000 loss: 2.0052951870913382\n",
      "epoch: 80000 loss: 2.008198986106958\n",
      "epoch: 85000 loss: 1.994281240485682\n",
      "epoch: 90000 loss: 2.0033826825920675\n",
      "epoch: 95000 loss: 1.9834694906933925\n"
     ]
    }
   ],
   "source": [
    "loss_linear = train(cell, optimizer, criterion, epochs, 5000, False)"
   ]
  },
  {
   "cell_type": "code",
   "execution_count": 173,
   "metadata": {},
   "outputs": [
    {
     "data": {
      "text/plain": [
       "[<matplotlib.lines.Line2D at 0x7f71e16b1a20>]"
      ]
     },
     "execution_count": 173,
     "metadata": {},
     "output_type": "execute_result"
    },
    {
     "data": {
      "image/png": "[encoded data removed]",
      "text/plain": [
       "<Figure size 432x288 with 1 Axes>"
      ]
     },
     "metadata": {},
     "output_type": "display_data"
    }
   ],
   "source": [
    "plt.plot(loss_linear)"
   ]
  },
  {
   "cell_type": "code",
   "execution_count": 250,
   "metadata": {},
   "outputs": [],
   "source": [
    "def sampling(cell, cat, first_letter, sample_randomly=False):\n",
    "    cell.cpu()\n",
    "    word = first_letter\n",
    "    letter = first_letter\n",
    "    cat_tensor = cat2tensor(cat)\n",
    "    cell.eval()\n",
    "    h = cell.init_hidden()\n",
    "    max_len = 20\n",
    "    with torch.no_grad():\n",
    "        for i in range(max_len):\n",
    "            lt = letter2tensor(letter)\n",
    "            o, h = cell(lt, cat_tensor, h)\n",
    "            letter = out2letter(o, sample_randomly)\n",
    "            if letter is None:\n",
    "                return word\n",
    "            else:\n",
    "                word += letter\n",
    "        return word\n",
    "        "
   ]
  },
  {
   "cell_type": "code",
   "execution_count": 201,
   "metadata": {},
   "outputs": [
    {
     "data": {
      "text/plain": [
       "2"
      ]
     },
     "execution_count": 201,
     "metadata": {},
     "output_type": "execute_result"
    }
   ],
   "source": [
    "a = torch.tensor([[1,2,4]])\n",
    "a.topk(1)[1].item()"
   ]
  },
  {
   "cell_type": "code",
   "execution_count": 242,
   "metadata": {},
   "outputs": [
    {
     "data": {
      "text/plain": [
       "'Neo'"
      ]
     },
     "execution_count": 242,
     "metadata": {},
     "output_type": "execute_result"
    }
   ],
   "source": [
    "sampling(cell, \"Vietnamese\", 'N', True)"
   ]
  },
  {
   "cell_type": "code",
   "execution_count": 115,
   "metadata": {},
   "outputs": [
    {
     "data": {
      "text/plain": [
       "['Arabic',\n",
       " 'Chinese',\n",
       " 'Czech',\n",
       " 'Dutch',\n",
       " 'English',\n",
       " 'French',\n",
       " 'German',\n",
       " 'Greek',\n",
       " 'Irish',\n",
       " 'Italian',\n",
       " 'Japanese',\n",
       " 'Korean',\n",
       " 'Polish',\n",
       " 'Portuguese',\n",
       " 'Russian',\n",
       " 'Scottish',\n",
       " 'Spanish',\n",
       " 'Vietnamese']"
      ]
     },
     "execution_count": 115,
     "metadata": {},
     "output_type": "execute_result"
    }
   ],
   "source": [
    "all_categories"
   ]
  },
  {
   "cell_type": "markdown",
   "metadata": {},
   "source": [
    "### Re implement using a GRU (best cell from last class)"
   ]
  },
  {
   "cell_type": "code",
   "execution_count": 246,
   "metadata": {},
   "outputs": [],
   "source": [
    "class WordGRU(nn.Module):\n",
    "    \n",
    "    def __init__(self, n_input, n_hidden, n_output):\n",
    "        super(WordGRU, self).__init__()\n",
    "        self.gru = nn.GRUCell(n_input + n_categories, n_hidden)\n",
    "        self.h2o = nn.Linear(n_hidden, n_output)\n",
    "        \n",
    "    def forward(self, x, cat, h):\n",
    "        x = torch.cat((x, cat), 1)\n",
    "        h = self.gru(x, h)\n",
    "        o = self.h2o(h)\n",
    "        o = F.dropout(o, 0.1)\n",
    "        o = F.log_softmax(o, dim=1)\n",
    "        return o, h\n",
    "    \n",
    "    def init_hidden(self):\n",
    "        zeros = torch.zeros(1, n_hidden)\n",
    "        if next(self.parameters()).is_cuda: zeros = zeros.cuda()\n",
    "        return zeros\n",
    "        "
   ]
  },
  {
   "cell_type": "code",
   "execution_count": 247,
   "metadata": {},
   "outputs": [
    {
     "name": "stdout",
     "output_type": "stream",
     "text": [
      "epoch: 5000 loss: 2.304542747737674\n",
      "epoch: 10000 loss: 2.005633524984503\n",
      "epoch: 15000 loss: 1.8597276857990983\n",
      "epoch: 20000 loss: 1.7593623681789916\n",
      "epoch: 25000 loss: 1.661885585108495\n",
      "epoch: 30000 loss: 1.5599241399353183\n",
      "epoch: 35000 loss: 1.4973589104319938\n",
      "epoch: 40000 loss: 1.4108367041860184\n",
      "epoch: 45000 loss: 1.3612116140755086\n",
      "epoch: 50000 loss: 1.3308315500738053\n",
      "epoch: 55000 loss: 1.2754615378643441\n",
      "epoch: 60000 loss: 1.2475932900158055\n",
      "epoch: 65000 loss: 1.2294131306475622\n",
      "epoch: 70000 loss: 1.2038385334949466\n",
      "epoch: 75000 loss: 1.1632512398113308\n",
      "epoch: 80000 loss: 1.1313097780412247\n",
      "epoch: 85000 loss: 1.133367762476638\n",
      "epoch: 90000 loss: 1.0995188605664319\n",
      "epoch: 95000 loss: 1.1048053593768767\n"
     ]
    }
   ],
   "source": [
    "cell = WordGRU(n_letters, n_hidden, n_letters)\n",
    "cell.cuda()\n",
    "criterion = nn.NLLLoss()\n",
    "optimizer = optim.Adam(cell.parameters(), lr=0.001)\n",
    "epochs = 100000\n",
    "loss_gru = train(cell, optimizer, criterion, epochs, 5000, True)"
   ]
  },
  {
   "cell_type": "code",
   "execution_count": 265,
   "metadata": {},
   "outputs": [
    {
     "data": {
      "text/plain": [
       "'Han'"
      ]
     },
     "execution_count": 265,
     "metadata": {},
     "output_type": "execute_result"
    }
   ],
   "source": [
    "sampling(cell, \"Korean\", 'H', True)"
   ]
  },
  {
   "cell_type": "markdown",
   "metadata": {},
   "source": [
    "### Lets try an LSTM"
   ]
  },
  {
   "cell_type": "code",
   "execution_count": 278,
   "metadata": {},
   "outputs": [],
   "source": [
    "class WordLSTM(nn.Module):\n",
    "    \n",
    "    def __init__(self, n_input, n_hidden, n_output):\n",
    "        super(WordLSTM, self).__init__()\n",
    "        self.lstm = nn.LSTMCell(n_input + n_categories, n_hidden)\n",
    "        self.h2o = nn.Linear(n_hidden, n_output)\n",
    "        \n",
    "    def forward(self, x, cat, h):\n",
    "        x = torch.cat((x, cat), 1)\n",
    "        h = self.lstm(x, h)\n",
    "        o = self.h2o(h[0])\n",
    "        o = F.dropout(o, 0.1)\n",
    "        o = F.log_softmax(o, dim=1)\n",
    "        return o, h\n",
    "    \n",
    "    def init_hidden(self):\n",
    "        zeros = (torch.zeros(1, n_hidden), torch.zeros(1, n_hidden))\n",
    "        if next(self.parameters()).is_cuda: \n",
    "            zeros = (zeros[0].cuda(), zeros[1].cuda())\n",
    "        return zeros"
   ]
  },
  {
   "cell_type": "code",
   "execution_count": 279,
   "metadata": {},
   "outputs": [
    {
     "name": "stdout",
     "output_type": "stream",
     "text": [
      "epoch: 5000 loss: 2.39109199224013\n",
      "epoch: 10000 loss: 2.055214628293137\n",
      "epoch: 15000 loss: 1.8897784944108738\n",
      "epoch: 20000 loss: 1.7625572629114914\n",
      "epoch: 25000 loss: 1.6634587344508578\n",
      "epoch: 30000 loss: 1.5467180959915945\n",
      "epoch: 35000 loss: 1.4698086754149433\n",
      "epoch: 40000 loss: 1.398853744611142\n",
      "epoch: 45000 loss: 1.339125067349741\n",
      "epoch: 50000 loss: 1.2788757478980972\n",
      "epoch: 55000 loss: 1.2368744712879043\n",
      "epoch: 60000 loss: 1.1976459050995192\n",
      "epoch: 65000 loss: 1.1741239031541626\n",
      "epoch: 70000 loss: 1.1383740580101904\n",
      "epoch: 75000 loss: 1.1198850235879327\n",
      "epoch: 80000 loss: 1.0906019892425174\n",
      "epoch: 85000 loss: 1.0909232914649583\n",
      "epoch: 90000 loss: 1.077365719852609\n",
      "epoch: 95000 loss: 1.045159997728632\n"
     ]
    }
   ],
   "source": [
    "cell = WordLSTM(n_letters, n_hidden, n_letters)\n",
    "cell.cuda()\n",
    "criterion = nn.NLLLoss()\n",
    "optimizer = optim.Adam(cell.parameters(), lr=0.001)\n",
    "epochs = 100000\n",
    "loss_lstm = train(cell, optimizer, criterion, epochs, 5000, True)"
   ]
  },
  {
   "cell_type": "code",
   "execution_count": 281,
   "metadata": {},
   "outputs": [
    {
     "data": {
      "text/plain": [
       "<matplotlib.legend.Legend at 0x7f71cf017a20>"
      ]
     },
     "execution_count": 281,
     "metadata": {},
     "output_type": "execute_result"
    },
    {
     "data": {
      "image/png": "[encoded data removed]",
      "text/plain": [
       "<Figure size 432x288 with 1 Axes>"
      ]
     },
     "metadata": {},
     "output_type": "display_data"
    }
   ],
   "source": [
    "plt.plot(loss_linear), plt.plot(loss_gru), plt.plot(loss_lstm)\n",
    "plt.legend(['Linear', 'GRU', 'LSTM'])"
   ]
  },
  {
   "cell_type": "markdown",
   "metadata": {},
   "source": [
    "### How about a GRU Stack"
   ]
  },
  {
   "cell_type": "code",
   "execution_count": null,
   "metadata": {},
   "outputs": [],
   "source": [
    "class WordGRUStack(nn.Module):\n",
    "    \n",
    "    def __init__(self, n_input, n_hidden, n_output):\n",
    "        super(WordGRU, self).__init__()\n",
    "        self.gru = nn.GRU(n_input + n_categories, n_hidden, num_layers=2)\n",
    "        self.h2o = nn.Linear(n_hidden, n_output)\n",
    "    \n",
    "    # note that x here is the full .shape(seq, batch, feature)\n",
    "    def forward(self, x, cat, h):\n",
    "        x = torch.cat((x, cat), 1)\n",
    "        h = self.gru(x, h)\n",
    "        o = self.h2o(h)\n",
    "        o = F.dropout(o, 0.1)\n",
    "        o = F.log_softmax(o, dim=1)\n",
    "        return o, h\n",
    "    \n",
    "    def init_hidden(self):\n",
    "        # num-layer x batch x number hidden\n",
    "        zeros = torch.zeros(2, 1, n_hidden)\n",
    "        if next(self.parameters()).is_cuda: zeros = zeros.cuda()\n",
    "        return zeros"
   ]
  },
  {
   "cell_type": "code",
   "execution_count": null,
   "metadata": {},
   "outputs": [],
   "source": [
    "gru_stack = WordGRUStack(n_letters, n_hidden, n_letters)"
   ]
  }
 ],
 "metadata": {
  "kernelspec": {
   "display_name": "Python 3",
   "language": "python",
   "name": "python3"
  },
  "language_info": {
   "codemirror_mode": {
    "name": "ipython",
    "version": 3
   },
   "file_extension": ".py",
   "mimetype": "text/x-python",
   "name": "python",
   "nbconvert_exporter": "python",
   "pygments_lexer": "ipython3",
   "version": "3.6.6"
  }
 },
 "nbformat": 4,
 "nbformat_minor": 2
}
